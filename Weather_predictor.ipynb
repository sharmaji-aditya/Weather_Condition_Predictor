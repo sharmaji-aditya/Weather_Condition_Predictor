{
 "cells": [
  {
   "cell_type": "markdown",
   "id": "ae09a267",
   "metadata": {},
   "source": [
    "## Weather Prediction\n",
    "Created By--> Aditya Kumar Sharma"
   ]
  },
  {
   "cell_type": "code",
   "execution_count": null,
   "id": "2460ed55",
   "metadata": {},
   "outputs": [
    {
     "name": "stdout",
     "output_type": "stream",
     "text": [
      "Accuracy of the model: 52.54%\n"
     ]
    }
   ],
   "source": [
    "import pandas as pd\n",
    "from sklearn.model_selection import train_test_split\n",
    "from sklearn.ensemble import RandomForestClassifier\n",
    "from sklearn.metrics import accuracy_score\n",
    "import joblib\n",
    "\n",
    "data = pd.read_csv(r'C:\\Users\\Sharma\\Downloads\\synthetic_weather_dataset.csv')\n",
    "data.head()\n",
    "\n",
    "#maping the conditions using label encoding \n",
    "data['Conditon'] = data['Condition'].map({\n",
    "    'sunny 🌞 ' : 1,\n",
    "    'drizzle 💦' : 2,\n",
    "    'rain 🌧' : 3,\n",
    "    'snow ❄️' : 4,\n",
    "    'fog 💨' : 5\n",
    "})\n",
    "\n",
    "X = data[['Humidity','WindSpeed','TempMax','TempMin']]\n",
    "Y = data['Conditon']\n",
    "\n",
    "#using train and test split splitting up data into train and test to prevent overfitting\n",
    "train_x,test_x,train_y,test_y = train_test_split(X,Y,test_size=0.2,random_state=42)\n",
    "\n",
    "# training linear regression model \n",
    "model = RandomForestClassifier(n_estimators=100,random_state=42) #n_estimators means how much decision trees we want in our random forest\n",
    "model.fit(train_x,train_y)\n",
    "\n",
    "#saving the model using joblib so that it doesn't have to train again and again \n",
    "joblib.dump(model,'weather_model.pkl')\n",
    "\n",
    "prediction = model.predict(test_x)\n",
    "accuracy = accuracy_score(test_y, prediction)\n",
    "print(f\"Accuracy of the model: {accuracy * 100:.2f}%\")\n"
   ]
  }
 ],
 "metadata": {
  "kernelspec": {
   "display_name": "Python 3",
   "language": "python",
   "name": "python3"
  },
  "language_info": {
   "codemirror_mode": {
    "name": "ipython",
    "version": 3
   },
   "file_extension": ".py",
   "mimetype": "text/x-python",
   "name": "python",
   "nbconvert_exporter": "python",
   "pygments_lexer": "ipython3",
   "version": "3.13.2"
  }
 },
 "nbformat": 4,
 "nbformat_minor": 5
}
